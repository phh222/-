{
 "cells": [
  {
   "cell_type": "code",
   "execution_count": 43,
   "metadata": {},
   "outputs": [
    {
     "name": "stdout",
     "output_type": "stream",
     "text": [
      "Accuracy: 0.9555555555555556\n",
      "Training Time: 0.40432071685791016\n",
      "Prediction Time: 0.0\n",
      "Classification Report:\n",
      "              precision    recall  f1-score   support\n",
      "\n",
      "           0       1.00      1.00      1.00        17\n",
      "           1       1.00      0.85      0.92        13\n",
      "           2       0.88      1.00      0.94        15\n",
      "\n",
      "    accuracy                           0.96        45\n",
      "   macro avg       0.96      0.95      0.95        45\n",
      "weighted avg       0.96      0.96      0.96        45\n",
      "\n"
     ]
    }
   ],
   "source": [
    "# 导入所需的库\n",
    "from sklearn.datasets import load_iris\n",
    "from sklearn.model_selection import train_test_split\n",
    "from sklearn.neural_network import MLPClassifier\n",
    "from sklearn.metrics import accuracy_score, classification_report\n",
    "import time\n",
    "\n",
    "# 加载鸢尾花数据集\n",
    "iris = load_iris()\n",
    "X = iris.data\n",
    "y = iris.target\n",
    "\n",
    "# 划分数据集为训练集和测试集\n",
    "X_train, X_test, y_train, y_test = train_test_split(X, y, test_size=0.3, random_state=38)\n",
    "\n",
    "# 创建 MLP 分类器\n",
    "# 这里我们使用两个隐藏层，每层50个神经元\n",
    "mlp_classifier = MLPClassifier(hidden_layer_sizes=(50,50), max_iter=10000)\n",
    "\n",
    "# 训练模型\n",
    "# 记录训练时间\n",
    "start_time = time.time()\n",
    "mlp_classifier.fit(X_train, y_train)\n",
    "mlp_training_time = time.time() - start_time\n",
    "\n",
    "# 对测试集进行预测\n",
    "# 记录预测时间\n",
    "start_time = time.time()\n",
    "y_pred = mlp_classifier.predict(X_test)\n",
    "mlp_prediction_time = time.time() - start_time\n",
    "\n",
    "# 评估模型性能\n",
    "accuracy = accuracy_score(y_test, y_pred)\n",
    "report = classification_report(y_test, y_pred)\n",
    "\n",
    "# 打印结果\n",
    "print(\"Accuracy:\", accuracy)\n",
    "print(\"Training Time:\", mlp_training_time)\n",
    "print(\"Prediction Time:\", mlp_prediction_time)\n",
    "print(\"Classification Report:\")\n",
    "print(report)\n"
   ]
  },
  {
   "cell_type": "markdown",
   "metadata": {},
   "source": [
    "参数调整和交叉验证"
   ]
  },
  {
   "cell_type": "code",
   "execution_count": 18,
   "metadata": {},
   "outputs": [
    {
     "data": {
      "text/plain": [
       "{'MLP Single Layer_50': 0.9800000000000001,\n",
       " 'MLP Single Layer_10': 0.9800000000000001,\n",
       " 'MLP Double Layer_10_10': 0.9800000000000001,\n",
       " 'MLP Double Layer_10_50': 0.9866666666666667,\n",
       " 'MLP Double Layer_50_10': 0.9800000000000001,\n",
       " 'MLP Double Layer_50_50': 0.9866666666666667}"
      ]
     },
     "execution_count": 18,
     "metadata": {},
     "output_type": "execute_result"
    }
   ],
   "source": [
    "from sklearn.model_selection import cross_val_score\n",
    "import numpy as np\n",
    "\n",
    "# MLP with different layers\n",
    "mlp_single_layer_50 = MLPClassifier(hidden_layer_sizes=(50,), max_iter=10000)\n",
    "mlp_single_layer_10 = MLPClassifier(hidden_layer_sizes=(10,), max_iter=10000)\n",
    "mlp_double_layer_10_10 = MLPClassifier(hidden_layer_sizes=(10, 10), max_iter=10000)\n",
    "mlp_double_layer_50_10 = MLPClassifier(hidden_layer_sizes=(50, 10), max_iter=10000)\n",
    "mlp_double_layer_10_50 = MLPClassifier(hidden_layer_sizes=(10, 50), max_iter=10000)\n",
    "mlp_double_layer_50_50 = MLPClassifier(hidden_layer_sizes=(50, 50), max_iter=10000)\n",
    "\n",
    "\n",
    "cv_scores_mlp_single_layer_50 = cross_val_score(mlp_single_layer_50, X, y, cv=5)\n",
    "cv_scores_mlp_single_layer_10 = cross_val_score(mlp_single_layer_10, X, y, cv=5)\n",
    "cv_scores_mlp_double_layer_10_10 = cross_val_score(mlp_double_layer_10_10, X, y, cv=5)\n",
    "cv_scores_mlp_double_layer_10_50 = cross_val_score(mlp_double_layer_10_50, X, y, cv=5)\n",
    "cv_scores_mlp_double_layer_50_10 = cross_val_score(mlp_double_layer_50_10, X, y, cv=5)\n",
    "cv_scores_mlp_double_layer_50_50 = cross_val_score(mlp_double_layer_50_50, X, y, cv=5)\n",
    "\n",
    "# 结果汇总\n",
    "cv_results = {\n",
    "    \"MLP Single Layer_50\": np.mean(cv_scores_mlp_single_layer_50),\n",
    "    \"MLP Single Layer_10\": np.mean(cv_scores_mlp_single_layer_10),\n",
    "    \"MLP Double Layer_10_10\": np.mean(cv_scores_mlp_double_layer_10_10),\n",
    "    \"MLP Double Layer_10_50\": np.mean(cv_scores_mlp_double_layer_10_50),\n",
    "    \"MLP Double Layer_50_10\": np.mean(cv_scores_mlp_double_layer_50_10),\n",
    "    \"MLP Double Layer_50_50\": np.mean(cv_scores_mlp_double_layer_50_50),\n",
    "}\n",
    "\n",
    "cv_results"
   ]
  }
 ],
 "metadata": {
  "kernelspec": {
   "display_name": "Python 3 (ipykernel)",
   "language": "python",
   "name": "python3"
  },
  "language_info": {
   "codemirror_mode": {
    "name": "ipython",
    "version": 3
   },
   "file_extension": ".py",
   "mimetype": "text/x-python",
   "name": "python",
   "nbconvert_exporter": "python",
   "pygments_lexer": "ipython3",
   "version": "3.10.11"
  }
 },
 "nbformat": 4,
 "nbformat_minor": 2
}
