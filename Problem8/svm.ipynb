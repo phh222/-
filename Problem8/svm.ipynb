{
 "cells": [
  {
   "cell_type": "code",
   "execution_count": 21,
   "metadata": {},
   "outputs": [
    {
     "name": "stdout",
     "output_type": "stream",
     "text": [
      "Accuracy: 0.9555555555555556\n",
      "Training Time: 0.0029997825622558594\n",
      "Prediction Time: 0.0009996891021728516\n",
      "Classification Report:\n",
      "              precision    recall  f1-score   support\n",
      "\n",
      "           0       1.00      1.00      1.00        17\n",
      "           1       1.00      0.85      0.92        13\n",
      "           2       0.88      1.00      0.94        15\n",
      "\n",
      "    accuracy                           0.96        45\n",
      "   macro avg       0.96      0.95      0.95        45\n",
      "weighted avg       0.96      0.96      0.96        45\n",
      "\n"
     ]
    }
   ],
   "source": [
    "# 导入所需的库\n",
    "from sklearn import datasets\n",
    "from sklearn.model_selection import train_test_split\n",
    "from sklearn.svm import SVC\n",
    "from sklearn.metrics import classification_report, accuracy_score\n",
    "import time\n",
    "# 加载鸢尾花数据集\n",
    "iris = datasets.load_iris()\n",
    "X = iris.data  # 特征数据\n",
    "y = iris.target  # 目标标签\n",
    "\n",
    "# 划分数据集为训练集和测试集\n",
    "# 这里我们保留 30% 的数据用于测试\n",
    "X_train, X_test, y_train, y_test = train_test_split(X, y, test_size=0.3, random_state=38)\n",
    "\n",
    "# 创建 SVM 分类器，这里使用线性核\n",
    "svm_classifier = SVC(kernel='linear')\n",
    "\n",
    "# 训练模型\n",
    "# 记录训练时间\n",
    "start_time = time.time()\n",
    "svm_classifier.fit(X_train, y_train)\n",
    "svm_training_time = time.time() - start_time\n",
    "\n",
    "# 对测试集进行预测\n",
    "# 记录预测时间\n",
    "start_time = time.time()\n",
    "y_pred = svm_classifier.predict(X_test)\n",
    "svm_prediction_time = time.time() - start_time\n",
    "\n",
    "# 评估模型性能\n",
    "accuracy = accuracy_score(y_test, y_pred)\n",
    "report = classification_report(y_test, y_pred)\n",
    "\n",
    "# 打印结果\n",
    "print(\"Accuracy:\", accuracy)\n",
    "print(\"Training Time:\", svm_training_time)\n",
    "print(\"Prediction Time:\", svm_prediction_time)\n",
    "print(\"Classification Report:\")\n",
    "print(report)\n",
    "\n"
   ]
  },
  {
   "cell_type": "markdown",
   "metadata": {},
   "source": [
    "参数调整和交叉验证"
   ]
  },
  {
   "cell_type": "code",
   "execution_count": 6,
   "metadata": {},
   "outputs": [
    {
     "data": {
      "text/plain": [
       "{'SVM Linear': 0.9800000000000001,\n",
       " 'SVM RBF': 0.9666666666666666,\n",
       " 'SVM Poly': 0.9800000000000001}"
      ]
     },
     "execution_count": 6,
     "metadata": {},
     "output_type": "execute_result"
    }
   ],
   "source": [
    "from sklearn.model_selection import cross_val_score\n",
    "import numpy as np\n",
    "# SVM with different kernels\n",
    "svm_linear = SVC(kernel='linear')\n",
    "svm_rbf = SVC(kernel='rbf')\n",
    "svm_poly = SVC(kernel='poly')\n",
    "\n",
    "# 交叉验证\n",
    "cv_scores_svm_linear = cross_val_score(svm_linear, X, y, cv=5)\n",
    "cv_scores_svm_rbf = cross_val_score(svm_rbf, X, y, cv=5)\n",
    "cv_scores_svm_poly = cross_val_score(svm_poly, X, y, cv=5)\n",
    "\n",
    "cv_results = {\n",
    "    \"SVM Linear\": np.mean(cv_scores_svm_linear),\n",
    "    \"SVM RBF\": np.mean(cv_scores_svm_rbf),\n",
    "    \"SVM Poly\": np.mean(cv_scores_svm_poly)\n",
    "}\n",
    "\n",
    "cv_results"
   ]
  }
 ],
 "metadata": {
  "kernelspec": {
   "display_name": "Python 3 (ipykernel)",
   "language": "python",
   "name": "python3"
  },
  "language_info": {
   "codemirror_mode": {
    "name": "ipython",
    "version": 3
   },
   "file_extension": ".py",
   "mimetype": "text/x-python",
   "name": "python",
   "nbconvert_exporter": "python",
   "pygments_lexer": "ipython3",
   "version": "3.10.11"
  }
 },
 "nbformat": 4,
 "nbformat_minor": 2
}
