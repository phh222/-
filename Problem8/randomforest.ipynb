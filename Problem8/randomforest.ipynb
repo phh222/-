{
 "cells": [
  {
   "cell_type": "code",
   "execution_count": 22,
   "metadata": {},
   "outputs": [
    {
     "name": "stdout",
     "output_type": "stream",
     "text": [
      "Accuracy: 0.9777777777777777\n",
      "Training Time: 0.06540107727050781\n",
      "Prediction Time: 0.0\n",
      "Classification Report:\n",
      "              precision    recall  f1-score   support\n",
      "\n",
      "           0       1.00      1.00      1.00        17\n",
      "           1       1.00      0.92      0.96        13\n",
      "           2       0.94      1.00      0.97        15\n",
      "\n",
      "    accuracy                           0.98        45\n",
      "   macro avg       0.98      0.97      0.98        45\n",
      "weighted avg       0.98      0.98      0.98        45\n",
      "\n"
     ]
    }
   ],
   "source": [
    "# 导入所需的库\n",
    "from sklearn.datasets import load_iris\n",
    "from sklearn.model_selection import train_test_split\n",
    "from sklearn.ensemble import RandomForestClassifier\n",
    "from sklearn.metrics import accuracy_score, classification_report\n",
    "import time\n",
    "\n",
    "# 加载鸢尾花数据集\n",
    "iris = load_iris()\n",
    "X = iris.data\n",
    "y = iris.target\n",
    "\n",
    "# 划分数据集为训练集和测试集\n",
    "X_train, X_test, y_train, y_test = train_test_split(X, y, test_size=0.3, random_state=38)\n",
    "\n",
    "# 创建随机森林分类器\n",
    "# 这里使用100个决策树\n",
    "rf_classifier = RandomForestClassifier(n_estimators=100)\n",
    "\n",
    "# 训练模型\n",
    "# 记录训练时间\n",
    "start_time = time.time()\n",
    "rf_classifier.fit(X_train, y_train)\n",
    "rf_training_time = time.time() - start_time\n",
    "\n",
    "# 对测试集进行预测\n",
    "# 记录预测时间\n",
    "start_time = time.time()\n",
    "y_pred = rf_classifier.predict(X_test)\n",
    "rf_prediction_time = time.time() - start_time\n",
    "\n",
    "# 评估模型性能\n",
    "accuracy = accuracy_score(y_test, y_pred)\n",
    "report = classification_report(y_test, y_pred)\n",
    "\n",
    "# 打印结果\n",
    "print(\"Accuracy:\", accuracy)\n",
    "print(\"Training Time:\", rf_training_time)\n",
    "print(\"Prediction Time:\", rf_prediction_time)\n",
    "print(\"Classification Report:\")\n",
    "print(report)\n"
   ]
  },
  {
   "cell_type": "markdown",
   "metadata": {},
   "source": [
    "参数调整和交叉验证"
   ]
  },
  {
   "cell_type": "code",
   "execution_count": 13,
   "metadata": {},
   "outputs": [
    {
     "data": {
      "text/plain": [
       "{'RF 10 Trees': 0.9399999999999998,\n",
       " 'RF 50 Trees': 0.9466666666666667,\n",
       " 'RF 100 Trees': 0.96,\n",
       " 'RF 200 Trees': 0.9666666666666668}"
      ]
     },
     "execution_count": 13,
     "metadata": {},
     "output_type": "execute_result"
    }
   ],
   "source": [
    "from sklearn.model_selection import cross_val_score\n",
    "import numpy as np\n",
    "\n",
    "# Random Forest with different number of trees\n",
    "rf_10 = RandomForestClassifier(n_estimators=10)\n",
    "rf_50 = RandomForestClassifier(n_estimators=50)\n",
    "rf_100 = RandomForestClassifier(n_estimators=100)\n",
    "rf_200 = RandomForestClassifier(n_estimators=200)\n",
    "\n",
    "cv_scores_rf_10 = cross_val_score(rf_10, X, y, cv=5)\n",
    "cv_scores_rf_50 = cross_val_score(rf_50, X, y, cv=5)\n",
    "cv_scores_rf_100 = cross_val_score(rf_100, X, y, cv=5)\n",
    "cv_scores_rf_200 = cross_val_score(rf_200, X, y, cv=5)\n",
    "\n",
    "cv_results = {\n",
    "    \"RF 10 Trees\": np.mean(cv_scores_rf_10),\n",
    "    \"RF 50 Trees\": np.mean(cv_scores_rf_50),\n",
    "    \"RF 100 Trees\": np.mean(cv_scores_rf_100),\n",
    "    \"RF 200 Trees\": np.mean(cv_scores_rf_200)\n",
    "\n",
    "}\n",
    "\n",
    "cv_results"
   ]
  }
 ],
 "metadata": {
  "kernelspec": {
   "display_name": "Python 3 (ipykernel)",
   "language": "python",
   "name": "python3"
  },
  "language_info": {
   "codemirror_mode": {
    "name": "ipython",
    "version": 3
   },
   "file_extension": ".py",
   "mimetype": "text/x-python",
   "name": "python",
   "nbconvert_exporter": "python",
   "pygments_lexer": "ipython3",
   "version": "3.10.11"
  }
 },
 "nbformat": 4,
 "nbformat_minor": 2
}
