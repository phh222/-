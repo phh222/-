{
 "cells": [
  {
   "cell_type": "code",
   "execution_count": 3,
   "metadata": {},
   "outputs": [],
   "source": [
    "import pandas as pd\n",
    "from surprise import Dataset, Reader\n",
    "from surprise.model_selection import train_test_split\n",
    "from surprise import SVD\n",
    "from surprise import accuracy\n",
    "from surprise import KNNBasic\n",
    "import time\n",
    "from surprise import KNNBasic\n",
    "from surprise.model_selection import cross_validate\n",
    "\n",
    "# 加载数据\n",
    "data = pd.read_csv('ratings.csv')\n",
    "# 通常，数据集包含用户ID、电影ID和评分\n",
    "\n",
    "# 使用 surprise 库读取数据\n",
    "reader = Reader(rating_scale=(1, 5))\n",
    "data = Dataset.load_from_df(data[['userId', 'movieId', 'rating']], reader)\n",
    "# Split the data into train and test sets\n",
    "trainset, testset = train_test_split(data, test_size=0.2, random_state=42)\n",
    "\n"
   ]
  },
  {
   "cell_type": "markdown",
   "metadata": {},
   "source": [
    "SVD算法"
   ]
  },
  {
   "cell_type": "code",
   "execution_count": 5,
   "metadata": {},
   "outputs": [
    {
     "name": "stdout",
     "output_type": "stream",
     "text": [
      "RMSE: 0.8759\n",
      "Root Mean Squared Error (RMSE): 0.8758614050540696\n",
      "SVD training time: 0.3253140449523926\n",
      "SVD prediction time: 0.1026604175567627\n"
     ]
    }
   ],
   "source": [
    "# Use the SVD algorithm\n",
    "SVD_model = SVD(n_factors=10, random_state=42)\n",
    "\n",
    "# Train the model on the training set\n",
    "# 测量SVD模型的训练时间\n",
    "start_time = time.time()\n",
    "SVD_model.fit(trainset)\n",
    "SVD_training_time = time.time() - start_time\n",
    "\n",
    "# Make predictions on the test set\n",
    "# 测量SVD模型的预测时间\n",
    "start_time = time.time()\n",
    "predictions = SVD_model.test(testset)\n",
    "SVD_prediction_time = time.time() - start_time\n",
    "\n",
    "# Evaluate the model using RMSE\n",
    "rmse = accuracy.rmse(predictions)\n",
    "print(f'Root Mean Squared Error (RMSE): {rmse}')\n",
    "print(f'SVD training time: {SVD_training_time}')\n",
    "print(f'SVD prediction time: {SVD_prediction_time}')"
   ]
  },
  {
   "cell_type": "markdown",
   "metadata": {},
   "source": [
    "基于用户的协同过滤算法"
   ]
  },
  {
   "cell_type": "code",
   "execution_count": 7,
   "metadata": {},
   "outputs": [
    {
     "name": "stdout",
     "output_type": "stream",
     "text": [
      "Computing the msd similarity matrix...\n",
      "Done computing similarity matrix.\n",
      "RMSE: 0.9561\n",
      "基于用户的协同过滤模型的RMSE: 0.9560731582415551\n",
      "user training time: 0.09193634986877441\n",
      "user prediction time: 0.7813875675201416\n"
     ]
    }
   ],
   "source": [
    "# 使用基于用户的协同过滤算法\n",
    "user_based_model = KNNBasic(sim_options={'user_based': True})\n",
    "# 测量训练时间\n",
    "start_time = time.time()\n",
    "user_based_model.fit(trainset)\n",
    "user_training_time = time.time() - start_time\n",
    "\n",
    "# 测量预测时间\n",
    "start_time = time.time()\n",
    "user_based_predictions = user_based_model.test(testset)\n",
    "user_prediction_time = time.time() - start_time\n",
    "# 评估模型\n",
    "user_based_rmse = accuracy.rmse(user_based_predictions)\n",
    "\n",
    "print(f'基于用户的协同过滤模型的RMSE: {user_based_rmse}')\n",
    "print(f'user training time: {user_training_time}')\n",
    "print(f'user prediction time: {user_prediction_time}')"
   ]
  },
  {
   "cell_type": "markdown",
   "metadata": {},
   "source": [
    "基于物品的协同过滤算法"
   ]
  },
  {
   "cell_type": "code",
   "execution_count": 8,
   "metadata": {},
   "outputs": [
    {
     "name": "stdout",
     "output_type": "stream",
     "text": [
      "Computing the msd similarity matrix...\n",
      "Done computing similarity matrix.\n",
      "RMSE: 0.9123\n",
      "基于物品的协同过滤模型的RMSE: 0.9123443988683873\n",
      "item training time: 2.4396169185638428\n",
      "item prediction time: 3.9093799591064453\n"
     ]
    }
   ],
   "source": [
    "# 使用基于物品的协同过滤算法\n",
    "item_based_model = KNNBasic(sim_options={'user_based': False})\n",
    "# 测量训练时间\n",
    "start_time = time.time()\n",
    "item_based_model.fit(trainset)\n",
    "item_training_time = time.time() - start_time\n",
    "\n",
    "# 测量预测时间\n",
    "start_time = time.time()\n",
    "item_based_predictions = item_based_model.test(testset)\n",
    "item_prediction_time = time.time() - start_time\n",
    "\n",
    "# 评估模型\n",
    "item_based_rmse = accuracy.rmse(item_based_predictions)\n",
    "print(f'基于物品的协同过滤模型的RMSE: {item_based_rmse}')\n",
    "print(f'item training time: {item_training_time}')\n",
    "print(f'item prediction time: {item_prediction_time}')"
   ]
  },
  {
   "cell_type": "markdown",
   "metadata": {},
   "source": [
    "交叉验证"
   ]
  },
  {
   "cell_type": "code",
   "execution_count": 9,
   "metadata": {},
   "outputs": [
    {
     "name": "stdout",
     "output_type": "stream",
     "text": [
      "Performing cross-validation for: SVD\n",
      "Evaluating RMSE, MAE of algorithm SVD on 5 split(s).\n",
      "\n",
      "                  Fold 1  Fold 2  Fold 3  Fold 4  Fold 5  Mean    Std     \n",
      "RMSE (testset)    0.8770  0.8598  0.8657  0.8694  0.8702  0.8684  0.0056  \n",
      "MAE (testset)     0.6704  0.6639  0.6647  0.6713  0.6674  0.6675  0.0030  \n",
      "Fit time          0.36    0.30    0.36    0.33    0.36    0.34    0.03    \n",
      "Test time         0.05    0.12    0.06    0.12    0.08    0.09    0.03    \n",
      "SVD - Average RMSE: 0.8684023024491291, Average MAE: 0.6675477269287742\n",
      "\n",
      "Performing cross-validation for: User-Based CF\n",
      "Computing the msd similarity matrix...\n",
      "Done computing similarity matrix.\n",
      "Computing the msd similarity matrix...\n",
      "Done computing similarity matrix.\n",
      "Computing the msd similarity matrix...\n",
      "Done computing similarity matrix.\n",
      "Computing the msd similarity matrix...\n",
      "Done computing similarity matrix.\n",
      "Computing the msd similarity matrix...\n",
      "Done computing similarity matrix.\n",
      "Evaluating RMSE, MAE of algorithm KNNBasic on 5 split(s).\n",
      "\n",
      "                  Fold 1  Fold 2  Fold 3  Fold 4  Fold 5  Mean    Std     \n",
      "RMSE (testset)    0.9530  0.9354  0.9506  0.9515  0.9422  0.9465  0.0067  \n",
      "MAE (testset)     0.7326  0.7152  0.7285  0.7305  0.7241  0.7262  0.0062  \n",
      "Fit time          0.09    0.09    0.09    0.08    0.07    0.09    0.01    \n",
      "Test time         0.91    0.86    0.83    0.86    0.80    0.85    0.04    \n",
      "User-Based CF - Average RMSE: 0.9465433150128861, Average MAE: 0.7261896966625006\n",
      "\n",
      "Performing cross-validation for: Item-Based CF\n",
      "Computing the msd similarity matrix...\n",
      "Done computing similarity matrix.\n",
      "Computing the msd similarity matrix...\n",
      "Done computing similarity matrix.\n",
      "Computing the msd similarity matrix...\n",
      "Done computing similarity matrix.\n",
      "Computing the msd similarity matrix...\n",
      "Done computing similarity matrix.\n",
      "Computing the msd similarity matrix...\n",
      "Done computing similarity matrix.\n",
      "Evaluating RMSE, MAE of algorithm KNNBasic on 5 split(s).\n",
      "\n",
      "                  Fold 1  Fold 2  Fold 3  Fold 4  Fold 5  Mean    Std     \n",
      "RMSE (testset)    0.9048  0.9024  0.9134  0.9105  0.9102  0.9083  0.0040  \n",
      "MAE (testset)     0.6932  0.6948  0.7043  0.7013  0.7034  0.6994  0.0045  \n",
      "Fit time          1.96    2.07    1.93    2.65    1.97    2.11    0.27    \n",
      "Test time         4.00    4.04    4.06    4.60    4.13    4.17    0.22    \n",
      "Item-Based CF - Average RMSE: 0.9082701063997474, Average MAE: 0.6994006584849842\n",
      "\n"
     ]
    }
   ],
   "source": [
    "models = {\n",
    "    'SVD': SVD_model,\n",
    "    'User-Based CF': user_based_model,\n",
    "    'Item-Based CF': item_based_model\n",
    "}\n",
    "\n",
    "# 对每个模型进行交叉验证\n",
    "for model_name, model in models.items():\n",
    "    print(f\"Performing cross-validation for: {model_name}\")\n",
    "    cv_results = cross_validate(model, data, measures=['RMSE', 'MAE'], cv=5, verbose=True)\n",
    "    \n",
    "    rmse_avg = sum(cv_results['test_rmse']) / len(cv_results['test_rmse'])\n",
    "    mae_avg = sum(cv_results['test_mae']) / len(cv_results['test_mae'])\n",
    "    print(f\"{model_name} - Average RMSE: {rmse_avg}, Average MAE: {mae_avg}\\n\")"
   ]
  }
 ],
 "metadata": {
  "kernelspec": {
   "display_name": "Python 3 (ipykernel)",
   "language": "python",
   "name": "python3"
  },
  "language_info": {
   "codemirror_mode": {
    "name": "ipython",
    "version": 3
   },
   "file_extension": ".py",
   "mimetype": "text/x-python",
   "name": "python",
   "nbconvert_exporter": "python",
   "pygments_lexer": "ipython3",
   "version": "3.10.11"
  }
 },
 "nbformat": 4,
 "nbformat_minor": 2
}
